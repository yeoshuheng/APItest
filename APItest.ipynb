{
 "cells": [
  {
   "cell_type": "code",
   "execution_count": 80,
   "metadata": {},
   "outputs": [],
   "source": [
    "import numpy as np\n",
    "import pandas as pd\n",
    "import matplotlib.pyplot as plt\n",
    "import http.client\n",
    "import requests\n",
    "import io\n",
    "import typing\n",
    "from datetime import datetime, timezone\n",
    "from dateutil import parser\n",
    "\n",
    "from nba_api.live.nba.endpoints import scoreboard\n",
    "from nba_api.stats.static import players\n",
    "from nba_api.stats.endpoints import playergamelog\n",
    "from nba_api.stats.static import teams\n",
    "from nba_api.stats.endpoints import leaguegamefinder\n",
    "from nba_api.live.nba.endpoints import boxscore"
   ]
  },
  {
   "cell_type": "markdown",
   "metadata": {},
   "source": [
    "# Free NBA API (Historical)"
   ]
  },
  {
   "cell_type": "markdown",
   "metadata": {},
   "source": [
    "https://github.com/swar/nba_api/tree/master/docs/examples"
   ]
  },
  {
   "cell_type": "markdown",
   "metadata": {},
   "source": [
    "Can get historical data for teams, players, games. Updated quite frequently?"
   ]
  },
  {
   "cell_type": "code",
   "execution_count": 54,
   "metadata": {},
   "outputs": [],
   "source": [
    "def getTeamData(team: str):\n",
    "    \"\"\" Getter for team data.\n",
    "    Args:\n",
    "        team (str): Name of team to get data of.\n",
    "\n",
    "    Returns:\n",
    "        dict: Metadata of team selected.\n",
    "        pd.DataFrame: Dataframe of historical game statistics. \n",
    "    \"\"\"\n",
    "    \n",
    "    # Get Details of the team.\n",
    "    teamsDict = teams.get_teams()\n",
    "    teamSelected = [x for x in teamsDict if x['full_name'] == team][0]\n",
    "    # Get game details for the team.\n",
    "    teamGames = leaguegamefinder.LeagueGameFinder(team_id_nullable = teamSelected['id']).get_data_frames()[0]\n",
    "    \n",
    "    return teamSelected, teamGames"
   ]
  },
  {
   "cell_type": "code",
   "execution_count": 62,
   "metadata": {},
   "outputs": [],
   "source": [
    "def getPlayerData(player: str):\n",
    "    \"\"\" Getter for player data.\n",
    "    Args:\n",
    "        player (str): Name of player to get data of.\n",
    "    \n",
    "    Returns:\n",
    "        dict: Metadata of player selected.\n",
    "        pd.DataFrame: Details of player's games.\n",
    "    \"\"\"\n",
    "    \n",
    "    # Get details of the players.\n",
    "    playerDict = players.get_players()\n",
    "    playerSelected = [x for x in playerDict if x['full_name'] == player][0]\n",
    "    # Get game details for the player.\n",
    "    playerGames = playergamelog.PlayerGameLog(player_id = playerSelected['id']).get_data_frames()[0]\n",
    "    \n",
    "    return playerSelected, playerGames"
   ]
  },
  {
   "cell_type": "markdown",
   "metadata": {},
   "source": [
    "## Getting team specific data"
   ]
  },
  {
   "cell_type": "code",
   "execution_count": 56,
   "metadata": {},
   "outputs": [],
   "source": [
    "teamData, gameData = getTeamData(\"Golden State Warriors\")"
   ]
  },
  {
   "cell_type": "code",
   "execution_count": 59,
   "metadata": {},
   "outputs": [
    {
     "data": {
      "text/plain": [
       "{'id': 1610612744,\n",
       " 'full_name': 'Golden State Warriors',\n",
       " 'abbreviation': 'GSW',\n",
       " 'nickname': 'Warriors',\n",
       " 'city': 'Golden State',\n",
       " 'state': 'California',\n",
       " 'year_founded': 1946}"
      ]
     },
     "execution_count": 59,
     "metadata": {},
     "output_type": "execute_result"
    }
   ],
   "source": [
    "teamData"
   ]
  },
  {
   "cell_type": "code",
   "execution_count": 58,
   "metadata": {},
   "outputs": [
    {
     "data": {
      "text/html": [
       "<div>\n",
       "<style scoped>\n",
       "    .dataframe tbody tr th:only-of-type {\n",
       "        vertical-align: middle;\n",
       "    }\n",
       "\n",
       "    .dataframe tbody tr th {\n",
       "        vertical-align: top;\n",
       "    }\n",
       "\n",
       "    .dataframe thead th {\n",
       "        text-align: right;\n",
       "    }\n",
       "</style>\n",
       "<table border=\"1\" class=\"dataframe\">\n",
       "  <thead>\n",
       "    <tr style=\"text-align: right;\">\n",
       "      <th></th>\n",
       "      <th>SEASON_ID</th>\n",
       "      <th>TEAM_ID</th>\n",
       "      <th>TEAM_ABBREVIATION</th>\n",
       "      <th>TEAM_NAME</th>\n",
       "      <th>GAME_ID</th>\n",
       "      <th>GAME_DATE</th>\n",
       "      <th>MATCHUP</th>\n",
       "      <th>WL</th>\n",
       "      <th>MIN</th>\n",
       "      <th>PTS</th>\n",
       "      <th>...</th>\n",
       "      <th>FT_PCT</th>\n",
       "      <th>OREB</th>\n",
       "      <th>DREB</th>\n",
       "      <th>REB</th>\n",
       "      <th>AST</th>\n",
       "      <th>STL</th>\n",
       "      <th>BLK</th>\n",
       "      <th>TOV</th>\n",
       "      <th>PF</th>\n",
       "      <th>PLUS_MINUS</th>\n",
       "    </tr>\n",
       "  </thead>\n",
       "  <tbody>\n",
       "    <tr>\n",
       "      <th>0</th>\n",
       "      <td>22022</td>\n",
       "      <td>1610612744</td>\n",
       "      <td>GSW</td>\n",
       "      <td>Golden State Warriors</td>\n",
       "      <td>0022200800</td>\n",
       "      <td>2023-02-04</td>\n",
       "      <td>GSW vs. DAL</td>\n",
       "      <td>W</td>\n",
       "      <td>242</td>\n",
       "      <td>119</td>\n",
       "      <td>...</td>\n",
       "      <td>0.789</td>\n",
       "      <td>5.0</td>\n",
       "      <td>33.0</td>\n",
       "      <td>38.0</td>\n",
       "      <td>33</td>\n",
       "      <td>6</td>\n",
       "      <td>5</td>\n",
       "      <td>14</td>\n",
       "      <td>24</td>\n",
       "      <td>6.0</td>\n",
       "    </tr>\n",
       "    <tr>\n",
       "      <th>1</th>\n",
       "      <td>22022</td>\n",
       "      <td>1610612744</td>\n",
       "      <td>GSW</td>\n",
       "      <td>Golden State Warriors</td>\n",
       "      <td>0022200783</td>\n",
       "      <td>2023-02-02</td>\n",
       "      <td>GSW @ DEN</td>\n",
       "      <td>L</td>\n",
       "      <td>241</td>\n",
       "      <td>117</td>\n",
       "      <td>...</td>\n",
       "      <td>0.632</td>\n",
       "      <td>10.0</td>\n",
       "      <td>32.0</td>\n",
       "      <td>42.0</td>\n",
       "      <td>25</td>\n",
       "      <td>4</td>\n",
       "      <td>4</td>\n",
       "      <td>17</td>\n",
       "      <td>23</td>\n",
       "      <td>-17.0</td>\n",
       "    </tr>\n",
       "    <tr>\n",
       "      <th>2</th>\n",
       "      <td>22022</td>\n",
       "      <td>1610612744</td>\n",
       "      <td>GSW</td>\n",
       "      <td>Golden State Warriors</td>\n",
       "      <td>0022200774</td>\n",
       "      <td>2023-02-01</td>\n",
       "      <td>GSW @ MIN</td>\n",
       "      <td>L</td>\n",
       "      <td>264</td>\n",
       "      <td>114</td>\n",
       "      <td>...</td>\n",
       "      <td>0.794</td>\n",
       "      <td>9.0</td>\n",
       "      <td>49.0</td>\n",
       "      <td>58.0</td>\n",
       "      <td>21</td>\n",
       "      <td>7</td>\n",
       "      <td>4</td>\n",
       "      <td>17</td>\n",
       "      <td>24</td>\n",
       "      <td>-5.0</td>\n",
       "    </tr>\n",
       "    <tr>\n",
       "      <th>3</th>\n",
       "      <td>22022</td>\n",
       "      <td>1610612744</td>\n",
       "      <td>GSW</td>\n",
       "      <td>Golden State Warriors</td>\n",
       "      <td>0022200759</td>\n",
       "      <td>2023-01-30</td>\n",
       "      <td>GSW @ OKC</td>\n",
       "      <td>W</td>\n",
       "      <td>240</td>\n",
       "      <td>128</td>\n",
       "      <td>...</td>\n",
       "      <td>0.800</td>\n",
       "      <td>6.0</td>\n",
       "      <td>38.0</td>\n",
       "      <td>44.0</td>\n",
       "      <td>37</td>\n",
       "      <td>9</td>\n",
       "      <td>4</td>\n",
       "      <td>15</td>\n",
       "      <td>18</td>\n",
       "      <td>8.0</td>\n",
       "    </tr>\n",
       "    <tr>\n",
       "      <th>4</th>\n",
       "      <td>22022</td>\n",
       "      <td>1610612744</td>\n",
       "      <td>GSW</td>\n",
       "      <td>Golden State Warriors</td>\n",
       "      <td>0022200740</td>\n",
       "      <td>2023-01-27</td>\n",
       "      <td>GSW vs. TOR</td>\n",
       "      <td>W</td>\n",
       "      <td>241</td>\n",
       "      <td>129</td>\n",
       "      <td>...</td>\n",
       "      <td>0.733</td>\n",
       "      <td>5.0</td>\n",
       "      <td>38.0</td>\n",
       "      <td>43.0</td>\n",
       "      <td>40</td>\n",
       "      <td>5</td>\n",
       "      <td>1</td>\n",
       "      <td>12</td>\n",
       "      <td>18</td>\n",
       "      <td>12.0</td>\n",
       "    </tr>\n",
       "  </tbody>\n",
       "</table>\n",
       "<p>5 rows × 28 columns</p>\n",
       "</div>"
      ],
      "text/plain": [
       "  SEASON_ID     TEAM_ID TEAM_ABBREVIATION              TEAM_NAME     GAME_ID  \\\n",
       "0     22022  1610612744               GSW  Golden State Warriors  0022200800   \n",
       "1     22022  1610612744               GSW  Golden State Warriors  0022200783   \n",
       "2     22022  1610612744               GSW  Golden State Warriors  0022200774   \n",
       "3     22022  1610612744               GSW  Golden State Warriors  0022200759   \n",
       "4     22022  1610612744               GSW  Golden State Warriors  0022200740   \n",
       "\n",
       "    GAME_DATE      MATCHUP WL  MIN  PTS  ...  FT_PCT  OREB  DREB   REB  AST  \\\n",
       "0  2023-02-04  GSW vs. DAL  W  242  119  ...   0.789   5.0  33.0  38.0   33   \n",
       "1  2023-02-02    GSW @ DEN  L  241  117  ...   0.632  10.0  32.0  42.0   25   \n",
       "2  2023-02-01    GSW @ MIN  L  264  114  ...   0.794   9.0  49.0  58.0   21   \n",
       "3  2023-01-30    GSW @ OKC  W  240  128  ...   0.800   6.0  38.0  44.0   37   \n",
       "4  2023-01-27  GSW vs. TOR  W  241  129  ...   0.733   5.0  38.0  43.0   40   \n",
       "\n",
       "   STL  BLK  TOV  PF  PLUS_MINUS  \n",
       "0    6    5   14  24         6.0  \n",
       "1    4    4   17  23       -17.0  \n",
       "2    7    4   17  24        -5.0  \n",
       "3    9    4   15  18         8.0  \n",
       "4    5    1   12  18        12.0  \n",
       "\n",
       "[5 rows x 28 columns]"
      ]
     },
     "execution_count": 58,
     "metadata": {},
     "output_type": "execute_result"
    }
   ],
   "source": [
    "gameData.head()"
   ]
  },
  {
   "cell_type": "code",
   "execution_count": 61,
   "metadata": {},
   "outputs": [
    {
     "data": {
      "text/plain": [
       "Index(['SEASON_ID', 'TEAM_ID', 'TEAM_ABBREVIATION', 'TEAM_NAME', 'GAME_ID',\n",
       "       'GAME_DATE', 'MATCHUP', 'WL', 'MIN', 'PTS', 'FGM', 'FGA', 'FG_PCT',\n",
       "       'FG3M', 'FG3A', 'FG3_PCT', 'FTM', 'FTA', 'FT_PCT', 'OREB', 'DREB',\n",
       "       'REB', 'AST', 'STL', 'BLK', 'TOV', 'PF', 'PLUS_MINUS'],\n",
       "      dtype='object')"
      ]
     },
     "execution_count": 61,
     "metadata": {},
     "output_type": "execute_result"
    }
   ],
   "source": [
    "gameData.columns"
   ]
  },
  {
   "cell_type": "markdown",
   "metadata": {},
   "source": [
    "## Getting player specific data"
   ]
  },
  {
   "cell_type": "code",
   "execution_count": 63,
   "metadata": {},
   "outputs": [],
   "source": [
    "playerData, playerGameData = getPlayerData(\"Russell Westbrook\")"
   ]
  },
  {
   "cell_type": "code",
   "execution_count": 64,
   "metadata": {},
   "outputs": [
    {
     "data": {
      "text/plain": [
       "{'id': 201566,\n",
       " 'full_name': 'Russell Westbrook',\n",
       " 'first_name': 'Russell',\n",
       " 'last_name': 'Westbrook',\n",
       " 'is_active': True}"
      ]
     },
     "execution_count": 64,
     "metadata": {},
     "output_type": "execute_result"
    }
   ],
   "source": [
    "playerData"
   ]
  },
  {
   "cell_type": "code",
   "execution_count": 65,
   "metadata": {},
   "outputs": [
    {
     "data": {
      "text/html": [
       "<div>\n",
       "<style scoped>\n",
       "    .dataframe tbody tr th:only-of-type {\n",
       "        vertical-align: middle;\n",
       "    }\n",
       "\n",
       "    .dataframe tbody tr th {\n",
       "        vertical-align: top;\n",
       "    }\n",
       "\n",
       "    .dataframe thead th {\n",
       "        text-align: right;\n",
       "    }\n",
       "</style>\n",
       "<table border=\"1\" class=\"dataframe\">\n",
       "  <thead>\n",
       "    <tr style=\"text-align: right;\">\n",
       "      <th></th>\n",
       "      <th>SEASON_ID</th>\n",
       "      <th>Player_ID</th>\n",
       "      <th>Game_ID</th>\n",
       "      <th>GAME_DATE</th>\n",
       "      <th>MATCHUP</th>\n",
       "      <th>WL</th>\n",
       "      <th>MIN</th>\n",
       "      <th>FGM</th>\n",
       "      <th>FGA</th>\n",
       "      <th>FG_PCT</th>\n",
       "      <th>...</th>\n",
       "      <th>DREB</th>\n",
       "      <th>REB</th>\n",
       "      <th>AST</th>\n",
       "      <th>STL</th>\n",
       "      <th>BLK</th>\n",
       "      <th>TOV</th>\n",
       "      <th>PF</th>\n",
       "      <th>PTS</th>\n",
       "      <th>PLUS_MINUS</th>\n",
       "      <th>VIDEO_AVAILABLE</th>\n",
       "    </tr>\n",
       "  </thead>\n",
       "  <tbody>\n",
       "    <tr>\n",
       "      <th>0</th>\n",
       "      <td>22022</td>\n",
       "      <td>201566</td>\n",
       "      <td>0022200798</td>\n",
       "      <td>FEB 04, 2023</td>\n",
       "      <td>LAL @ NOP</td>\n",
       "      <td>L</td>\n",
       "      <td>23</td>\n",
       "      <td>6</td>\n",
       "      <td>11</td>\n",
       "      <td>0.545</td>\n",
       "      <td>...</td>\n",
       "      <td>2</td>\n",
       "      <td>4</td>\n",
       "      <td>4</td>\n",
       "      <td>0</td>\n",
       "      <td>0</td>\n",
       "      <td>2</td>\n",
       "      <td>1</td>\n",
       "      <td>15</td>\n",
       "      <td>-4</td>\n",
       "      <td>1</td>\n",
       "    </tr>\n",
       "    <tr>\n",
       "      <th>1</th>\n",
       "      <td>22022</td>\n",
       "      <td>201566</td>\n",
       "      <td>0022200778</td>\n",
       "      <td>FEB 02, 2023</td>\n",
       "      <td>LAL @ IND</td>\n",
       "      <td>W</td>\n",
       "      <td>32</td>\n",
       "      <td>2</td>\n",
       "      <td>16</td>\n",
       "      <td>0.125</td>\n",
       "      <td>...</td>\n",
       "      <td>2</td>\n",
       "      <td>3</td>\n",
       "      <td>10</td>\n",
       "      <td>0</td>\n",
       "      <td>0</td>\n",
       "      <td>4</td>\n",
       "      <td>2</td>\n",
       "      <td>10</td>\n",
       "      <td>0</td>\n",
       "      <td>1</td>\n",
       "    </tr>\n",
       "    <tr>\n",
       "      <th>2</th>\n",
       "      <td>22022</td>\n",
       "      <td>201566</td>\n",
       "      <td>0022200765</td>\n",
       "      <td>JAN 31, 2023</td>\n",
       "      <td>LAL @ NYK</td>\n",
       "      <td>W</td>\n",
       "      <td>36</td>\n",
       "      <td>7</td>\n",
       "      <td>13</td>\n",
       "      <td>0.538</td>\n",
       "      <td>...</td>\n",
       "      <td>3</td>\n",
       "      <td>6</td>\n",
       "      <td>8</td>\n",
       "      <td>3</td>\n",
       "      <td>0</td>\n",
       "      <td>1</td>\n",
       "      <td>4</td>\n",
       "      <td>17</td>\n",
       "      <td>-5</td>\n",
       "      <td>1</td>\n",
       "    </tr>\n",
       "    <tr>\n",
       "      <th>3</th>\n",
       "      <td>22022</td>\n",
       "      <td>201566</td>\n",
       "      <td>0022200757</td>\n",
       "      <td>JAN 30, 2023</td>\n",
       "      <td>LAL @ BKN</td>\n",
       "      <td>L</td>\n",
       "      <td>30</td>\n",
       "      <td>5</td>\n",
       "      <td>15</td>\n",
       "      <td>0.333</td>\n",
       "      <td>...</td>\n",
       "      <td>6</td>\n",
       "      <td>8</td>\n",
       "      <td>10</td>\n",
       "      <td>1</td>\n",
       "      <td>1</td>\n",
       "      <td>6</td>\n",
       "      <td>2</td>\n",
       "      <td>17</td>\n",
       "      <td>-10</td>\n",
       "      <td>1</td>\n",
       "    </tr>\n",
       "    <tr>\n",
       "      <th>4</th>\n",
       "      <td>22022</td>\n",
       "      <td>201566</td>\n",
       "      <td>0022200749</td>\n",
       "      <td>JAN 28, 2023</td>\n",
       "      <td>LAL @ BOS</td>\n",
       "      <td>L</td>\n",
       "      <td>25</td>\n",
       "      <td>4</td>\n",
       "      <td>14</td>\n",
       "      <td>0.286</td>\n",
       "      <td>...</td>\n",
       "      <td>2</td>\n",
       "      <td>4</td>\n",
       "      <td>7</td>\n",
       "      <td>1</td>\n",
       "      <td>0</td>\n",
       "      <td>5</td>\n",
       "      <td>4</td>\n",
       "      <td>12</td>\n",
       "      <td>-10</td>\n",
       "      <td>1</td>\n",
       "    </tr>\n",
       "  </tbody>\n",
       "</table>\n",
       "<p>5 rows × 27 columns</p>\n",
       "</div>"
      ],
      "text/plain": [
       "  SEASON_ID  Player_ID     Game_ID     GAME_DATE    MATCHUP WL  MIN  FGM  FGA  \\\n",
       "0     22022     201566  0022200798  FEB 04, 2023  LAL @ NOP  L   23    6   11   \n",
       "1     22022     201566  0022200778  FEB 02, 2023  LAL @ IND  W   32    2   16   \n",
       "2     22022     201566  0022200765  JAN 31, 2023  LAL @ NYK  W   36    7   13   \n",
       "3     22022     201566  0022200757  JAN 30, 2023  LAL @ BKN  L   30    5   15   \n",
       "4     22022     201566  0022200749  JAN 28, 2023  LAL @ BOS  L   25    4   14   \n",
       "\n",
       "   FG_PCT  ...  DREB  REB  AST  STL  BLK  TOV  PF  PTS  PLUS_MINUS  \\\n",
       "0   0.545  ...     2    4    4    0    0    2   1   15          -4   \n",
       "1   0.125  ...     2    3   10    0    0    4   2   10           0   \n",
       "2   0.538  ...     3    6    8    3    0    1   4   17          -5   \n",
       "3   0.333  ...     6    8   10    1    1    6   2   17         -10   \n",
       "4   0.286  ...     2    4    7    1    0    5   4   12         -10   \n",
       "\n",
       "   VIDEO_AVAILABLE  \n",
       "0                1  \n",
       "1                1  \n",
       "2                1  \n",
       "3                1  \n",
       "4                1  \n",
       "\n",
       "[5 rows x 27 columns]"
      ]
     },
     "execution_count": 65,
     "metadata": {},
     "output_type": "execute_result"
    }
   ],
   "source": [
    "playerGameData.head()"
   ]
  },
  {
   "cell_type": "code",
   "execution_count": 66,
   "metadata": {},
   "outputs": [
    {
     "data": {
      "text/plain": [
       "Index(['SEASON_ID', 'Player_ID', 'Game_ID', 'GAME_DATE', 'MATCHUP', 'WL',\n",
       "       'MIN', 'FGM', 'FGA', 'FG_PCT', 'FG3M', 'FG3A', 'FG3_PCT', 'FTM', 'FTA',\n",
       "       'FT_PCT', 'OREB', 'DREB', 'REB', 'AST', 'STL', 'BLK', 'TOV', 'PF',\n",
       "       'PTS', 'PLUS_MINUS', 'VIDEO_AVAILABLE'],\n",
       "      dtype='object')"
      ]
     },
     "execution_count": 66,
     "metadata": {},
     "output_type": "execute_result"
    }
   ],
   "source": [
    "playerGameData.columns"
   ]
  },
  {
   "cell_type": "markdown",
   "metadata": {},
   "source": [
    "# Free NBA API (Live)"
   ]
  },
  {
   "cell_type": "markdown",
   "metadata": {},
   "source": [
    "https://github.com/swar/nba_api/blob/master/docs/examples/LiveData.ipynb"
   ]
  },
  {
   "cell_type": "code",
   "execution_count": 77,
   "metadata": {},
   "outputs": [],
   "source": [
    "def getScoreboard() -> list:\n",
    "    \"\"\" Prints scoreboard of live games.\n",
    "    \n",
    "    Returns:\n",
    "        list: Games currently ongoing.\n",
    "    \"\"\"\n",
    "    board = scoreboard.ScoreBoard()\n",
    "    \n",
    "    # Generate Scoreboard\n",
    "    f = \"{gameId}: {awayTeam} vs. {homeTeam} @ {gameTimeLTZ}\"\n",
    "    print(\"ScoreBoardDate: \" + board.score_board_date)\n",
    "    games = board.games.get_dict()\n",
    "    for game in games:\n",
    "        gameTimeLTZ = parser.parse(game[\"gameTimeUTC\"]).replace(tzinfo=timezone.utc).astimezone(tz=None)\n",
    "        print(f.format(gameId=game['gameId'], awayTeam=game['awayTeam']['teamName'],\n",
    "                       homeTeam=game['homeTeam']['teamName'], gameTimeLTZ=gameTimeLTZ))\n",
    "    \n",
    "    # Return current games\n",
    "    return [x['gameId'] for x in games]"
   ]
  },
  {
   "cell_type": "code",
   "execution_count": 131,
   "metadata": {},
   "outputs": [],
   "source": [
    "def getLiveData(gameId: str):\n",
    "    \"\"\" Get live data for current game.\n",
    "    \n",
    "    Returns:\n",
    "        dict: Current game data in dictionary format.\n",
    "        pd.DataFrame: Dataframe of home team and away team statistics combined.\n",
    "    \"\"\"\n",
    "    box = boxscore.BoxScore(gameId)\n",
    "    \n",
    "    # Data Dictionaries\n",
    "    datadict = {\n",
    "        \"game\" : box.game.get_dict(),                   \n",
    "        \"arena\" : box.arena.get_dict(),                 \n",
    "        \"awayteam\" : box.away_team.get_dict(),              \n",
    "        \"awayplayers\" : box.away_team_player_stats.get_dict(), \n",
    "        \"awaystats\" : box.away_team_stats.get_dict(),        \n",
    "        \"hometeam\" : box.home_team.get_dict(),             \n",
    "        \"homeplayers\" : box.home_team_player_stats.get_dict(),\n",
    "        \"homestats\" : box.home_team_stats.get_dict(),      \n",
    "        \"gamedetails\" : box.game_details.get_dict(),      \n",
    "        \"officials\" : box.officials.get_dict()}\n",
    "    \n",
    "    # Get team data (on home team and away team performances)\n",
    "    df = dataDict['homestats']['statistics']\n",
    "    df2 = dataDict['awaystats']['statistics']\n",
    "    n1, n2 = dataDict['hometeam']['teamName'], dataDict['awayteam']['teamName']\n",
    "    \n",
    "    # Combine into a single dataframe.\n",
    "    teamData = pd.DataFrame([df.values(), df2.values()], columns = df.keys(), \n",
    "                           index = [n1, n2])\n",
    "    \n",
    "    return datadict, teamData"
   ]
  },
  {
   "cell_type": "markdown",
   "metadata": {},
   "source": [
    "## Live Scoreboard + getting current games"
   ]
  },
  {
   "cell_type": "code",
   "execution_count": 109,
   "metadata": {},
   "outputs": [
    {
     "name": "stdout",
     "output_type": "stream",
     "text": [
      "ScoreBoardDate: 2023-02-05\n",
      "0022200802: Magic vs. Hornets @ 2023-02-06 02:00:00+08:00\n",
      "0022200803: Cavaliers vs. Pacers @ 2023-02-06 06:00:00+08:00\n",
      "0022200804: 76ers vs. Knicks @ 2023-02-06 07:00:00+08:00\n",
      "0022200805: Raptors vs. Grizzlies @ 2023-02-06 07:00:00+08:00\n",
      "0022200806: Nuggets vs. Timberwolves @ 2023-02-06 08:00:00+08:00\n",
      "0022200807: Kings vs. Pelicans @ 2023-02-06 08:00:00+08:00\n"
     ]
    }
   ],
   "source": [
    "currGames = getScoreboard()"
   ]
  },
  {
   "cell_type": "code",
   "execution_count": 79,
   "metadata": {},
   "outputs": [
    {
     "data": {
      "text/plain": [
       "['0022200802',\n",
       " '0022200803',\n",
       " '0022200804',\n",
       " '0022200805',\n",
       " '0022200806',\n",
       " '0022200807']"
      ]
     },
     "execution_count": 79,
     "metadata": {},
     "output_type": "execute_result"
    }
   ],
   "source": [
    "currGames"
   ]
  },
  {
   "cell_type": "code",
   "execution_count": 132,
   "metadata": {},
   "outputs": [],
   "source": [
    "dataDict, currGameData = getLiveData(currGames[0])"
   ]
  },
  {
   "cell_type": "code",
   "execution_count": 133,
   "metadata": {},
   "outputs": [
    {
     "data": {
      "text/plain": [
       "dict_keys(['game', 'arena', 'awayteam', 'awayplayers', 'awaystats', 'hometeam', 'homeplayers', 'homestats', 'gamedetails', 'officials'])"
      ]
     },
     "execution_count": 133,
     "metadata": {},
     "output_type": "execute_result"
    }
   ],
   "source": [
    "dataDict.keys()"
   ]
  },
  {
   "cell_type": "code",
   "execution_count": 134,
   "metadata": {},
   "outputs": [
    {
     "data": {
      "text/html": [
       "<div>\n",
       "<style scoped>\n",
       "    .dataframe tbody tr th:only-of-type {\n",
       "        vertical-align: middle;\n",
       "    }\n",
       "\n",
       "    .dataframe tbody tr th {\n",
       "        vertical-align: top;\n",
       "    }\n",
       "\n",
       "    .dataframe thead th {\n",
       "        text-align: right;\n",
       "    }\n",
       "</style>\n",
       "<table border=\"1\" class=\"dataframe\">\n",
       "  <thead>\n",
       "    <tr style=\"text-align: right;\">\n",
       "      <th></th>\n",
       "      <th>assists</th>\n",
       "      <th>assistsTurnoverRatio</th>\n",
       "      <th>benchPoints</th>\n",
       "      <th>biggestLead</th>\n",
       "      <th>biggestLeadScore</th>\n",
       "      <th>biggestScoringRun</th>\n",
       "      <th>biggestScoringRunScore</th>\n",
       "      <th>blocks</th>\n",
       "      <th>blocksReceived</th>\n",
       "      <th>fastBreakPointsAttempted</th>\n",
       "      <th>...</th>\n",
       "      <th>timeLeading</th>\n",
       "      <th>timesTied</th>\n",
       "      <th>trueShootingAttempts</th>\n",
       "      <th>trueShootingPercentage</th>\n",
       "      <th>turnovers</th>\n",
       "      <th>turnoversTeam</th>\n",
       "      <th>turnoversTotal</th>\n",
       "      <th>twoPointersAttempted</th>\n",
       "      <th>twoPointersMade</th>\n",
       "      <th>twoPointersPercentage</th>\n",
       "    </tr>\n",
       "  </thead>\n",
       "  <tbody>\n",
       "    <tr>\n",
       "      <th>Hornets</th>\n",
       "      <td>28</td>\n",
       "      <td>1.866667</td>\n",
       "      <td>28</td>\n",
       "      <td>10</td>\n",
       "      <td>20-30</td>\n",
       "      <td>10</td>\n",
       "      <td>38-37</td>\n",
       "      <td>6</td>\n",
       "      <td>2</td>\n",
       "      <td>11</td>\n",
       "      <td>...</td>\n",
       "      <td>PT22M54.00S</td>\n",
       "      <td>4</td>\n",
       "      <td>93.12</td>\n",
       "      <td>0.606744</td>\n",
       "      <td>15</td>\n",
       "      <td>0</td>\n",
       "      <td>15</td>\n",
       "      <td>50</td>\n",
       "      <td>33</td>\n",
       "      <td>0.66</td>\n",
       "    </tr>\n",
       "    <tr>\n",
       "      <th>Magic</th>\n",
       "      <td>25</td>\n",
       "      <td>2.083333</td>\n",
       "      <td>39</td>\n",
       "      <td>12</td>\n",
       "      <td>73-61</td>\n",
       "      <td>10</td>\n",
       "      <td>38-37</td>\n",
       "      <td>2</td>\n",
       "      <td>6</td>\n",
       "      <td>5</td>\n",
       "      <td>...</td>\n",
       "      <td>PT23M53.00S</td>\n",
       "      <td>4</td>\n",
       "      <td>104.20</td>\n",
       "      <td>0.571017</td>\n",
       "      <td>12</td>\n",
       "      <td>0</td>\n",
       "      <td>12</td>\n",
       "      <td>68</td>\n",
       "      <td>34</td>\n",
       "      <td>0.50</td>\n",
       "    </tr>\n",
       "  </tbody>\n",
       "</table>\n",
       "<p>2 rows × 61 columns</p>\n",
       "</div>"
      ],
      "text/plain": [
       "         assists  assistsTurnoverRatio  benchPoints  biggestLead  \\\n",
       "Hornets       28              1.866667           28           10   \n",
       "Magic         25              2.083333           39           12   \n",
       "\n",
       "        biggestLeadScore  biggestScoringRun biggestScoringRunScore  blocks  \\\n",
       "Hornets            20-30                 10                  38-37       6   \n",
       "Magic              73-61                 10                  38-37       2   \n",
       "\n",
       "         blocksReceived  fastBreakPointsAttempted  ...  timeLeading  \\\n",
       "Hornets               2                        11  ...  PT22M54.00S   \n",
       "Magic                 6                         5  ...  PT23M53.00S   \n",
       "\n",
       "         timesTied  trueShootingAttempts  trueShootingPercentage  turnovers  \\\n",
       "Hornets          4                 93.12                0.606744         15   \n",
       "Magic            4                104.20                0.571017         12   \n",
       "\n",
       "         turnoversTeam  turnoversTotal  twoPointersAttempted  twoPointersMade  \\\n",
       "Hornets              0              15                    50               33   \n",
       "Magic                0              12                    68               34   \n",
       "\n",
       "         twoPointersPercentage  \n",
       "Hornets                   0.66  \n",
       "Magic                     0.50  \n",
       "\n",
       "[2 rows x 61 columns]"
      ]
     },
     "execution_count": 134,
     "metadata": {},
     "output_type": "execute_result"
    }
   ],
   "source": [
    "currGameData"
   ]
  }
 ],
 "metadata": {
  "kernelspec": {
   "display_name": "Python 3 (ipykernel)",
   "language": "python",
   "name": "python3"
  },
  "language_info": {
   "codemirror_mode": {
    "name": "ipython",
    "version": 3
   },
   "file_extension": ".py",
   "mimetype": "text/x-python",
   "name": "python",
   "nbconvert_exporter": "python",
   "pygments_lexer": "ipython3",
   "version": "3.10.6"
  },
  "vscode": {
   "interpreter": {
    "hash": "aee8b7b246df8f9039afb4144a1f6fd8d2ca17a180786b69acc140d282b71a49"
   }
  }
 },
 "nbformat": 4,
 "nbformat_minor": 2
}
